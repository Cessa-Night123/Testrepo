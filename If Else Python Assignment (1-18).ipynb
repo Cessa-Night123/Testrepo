{
 "cells": [
  {
   "cell_type": "markdown",
   "id": "ae81f916",
   "metadata": {},
   "source": [
    "# Python Assignment (If Else Statements)"
   ]
  },
  {
   "cell_type": "markdown",
   "id": "8a1f4bbe",
   "metadata": {},
   "source": [
    "1) Number Analyser"
   ]
  },
  {
   "cell_type": "code",
   "execution_count": 2,
   "id": "4ec6aed4",
   "metadata": {},
   "outputs": [
    {
     "name": "stdout",
     "output_type": "stream",
     "text": [
      "Enter Integer= 4\n",
      "Positive\n",
      "Even\n"
     ]
    }
   ],
   "source": [
    "number= int(input(\"Enter Integer= \"))\n",
    "if number> 0:\n",
    "    print(\"Positive\")\n",
    "elif number<0:\n",
    "    print(\"Negative\")\n",
    "elif number==0:\n",
    "    print(\"Zero\")\n",
    "else:\n",
    "    print(\"Invalid Input\")\n",
    "if ((number/2)*2==number):\n",
    "    print(\"Even\")\n",
    "else:\n",
    "    print(\"Odd\")"
   ]
  },
  {
   "cell_type": "markdown",
   "id": "e5141065",
   "metadata": {},
   "source": [
    "2) Areas of Rectangle"
   ]
  },
  {
   "cell_type": "code",
   "execution_count": 6,
   "id": "f8807650",
   "metadata": {
    "scrolled": false
   },
   "outputs": [
    {
     "name": "stdout",
     "output_type": "stream",
     "text": [
      "Enter length of 1st Rectangle= 34\n",
      "Enter breadth of 1st Rectangle= 56\n",
      "Enter length of 2nd Rectangle= 34\n",
      "Enter breadth of 2nd Rectangle= 56\n",
      "Result: The areas of the two rectangles are the same\n"
     ]
    }
   ],
   "source": [
    "length_1= float(input(\"Enter length of 1st Rectangle= \"))\n",
    "breadth_1= float(input(\"Enter breadth of 1st Rectangle= \"))\n",
    "length_2= float(input(\"Enter length of 2nd Rectangle= \"))\n",
    "breadth_2= float(input(\"Enter breadth of 2nd Rectangle= \"))\n",
    "area_1= length_1 * breadth_1\n",
    "area_2= length_2 * breadth_2\n",
    "if area_1 > area_2:\n",
    "    print(\"The first rectangle's area is greater\")\n",
    "elif area_2 > area_1:\n",
    "    print(\"The second rectangle's area is greater\")\n",
    "elif area_1 == area_2:\n",
    "    print(\"Result: The areas of the two rectangles are the same\")\n",
    "else:\n",
    "    print(\"Invalid Input\")"
   ]
  },
  {
   "cell_type": "markdown",
   "id": "a681759f",
   "metadata": {},
   "source": [
    "3) Quarter of the year"
   ]
  },
  {
   "cell_type": "code",
   "execution_count": 17,
   "id": "43506c52",
   "metadata": {},
   "outputs": [
    {
     "name": "stdout",
     "output_type": "stream",
     "text": [
      "Enter a number of the month between 1 and 12: 6\n",
      "The month is in the second quarter of the year\n"
     ]
    }
   ],
   "source": [
    "month= int(input(\"Enter a number of the month between 1 and 12: \"))\n",
    "if month >=1 and month <=2:\n",
    "    print(\"The month is in the first quarter of the year\")\n",
    "elif month >=4 and month <= 6:\n",
    "    print(\"The month is in the second quarter of the year\")\n",
    "elif month >=7 and month <=9:\n",
    "    print(\"The month is in the third quarter of the year\")\n",
    "elif month >=10 and month <=12:\n",
    "    print(\"The month is in the fourth quarter of the year\")\n",
    "else:\n",
    "    print(\"Error\")"
   ]
  },
  {
   "cell_type": "markdown",
   "id": "eef0cc72",
   "metadata": {},
   "source": [
    "4) Roman Numerals"
   ]
  },
  {
   "cell_type": "code",
   "execution_count": 20,
   "id": "a71864ad",
   "metadata": {},
   "outputs": [
    {
     "name": "stdout",
     "output_type": "stream",
     "text": [
      "Enter a number within the range 1 through 10: 3\n",
      "III\n"
     ]
    }
   ],
   "source": [
    "number= int(input(\"Enter a number within the range 1 through 10: \"))\n",
    "if number == 1:\n",
    "    print(\"I\")\n",
    "elif number == 2:\n",
    "    print(\"II\")\n",
    "elif number == 3:\n",
    "    print(\"III\")\n",
    "elif number == 4:\n",
    "    print(\"IX\")\n",
    "elif number == 5:\n",
    "    print(\"X\")\n",
    "elif number == 6:\n",
    "    print(\"VI\")\n",
    "elif number == 7:\n",
    "    print(\"VII\")\n",
    "elif number == 8:\n",
    "    print(\"VIII\")\n",
    "elif number == 9:\n",
    "    print(\"IX\")\n",
    "elif number == 10:\n",
    "    print(\"X\")\n",
    "else:\n",
    "    print(\"Error\")"
   ]
  },
  {
   "cell_type": "markdown",
   "id": "3f4504d2",
   "metadata": {},
   "source": [
    "5) Mass and Weight"
   ]
  },
  {
   "cell_type": "code",
   "execution_count": 24,
   "id": "99cbc279",
   "metadata": {},
   "outputs": [
    {
     "name": "stdout",
     "output_type": "stream",
     "text": [
      "Enter the mass of the object in kilograms: 4.5\n",
      "The weight of the object is  44.1 Newtons\n",
      "The mass of the object is 4.5 Kilograms. The weight of the object is 44.1 Newtons. Therefore the object is too light.\n"
     ]
    }
   ],
   "source": [
    "mass= float(input(\"Enter the mass of the object in kilograms: \"))\n",
    "weight= mass * 9.8\n",
    "print(\"The weight of the object is \", weight, \"Newtons\")\n",
    "if weight > 500:\n",
    "    print(\"The mass of the object is\", mass, \"Kilograms. The weight of the object is\", weight,\"Newtons. Therefore the object is too heavy.\")\n",
    "elif weight < 100:\n",
    "    print(\"The mass of the object is\", mass, \"Kilograms. The weight of the object is\", weight,\"Newtons. Therefore the object is too light.\")\n",
    "else:\n",
    "    print(\"Error\")"
   ]
  },
  {
   "cell_type": "markdown",
   "id": "68b3241f",
   "metadata": {},
   "source": [
    "6) Magic Dates"
   ]
  },
  {
   "cell_type": "code",
   "execution_count": 31,
   "id": "c91b3385",
   "metadata": {},
   "outputs": [
    {
     "name": "stdout",
     "output_type": "stream",
     "text": [
      "Enter a month in numeric form: 4\n",
      "Enter a day: 5\n",
      "Enter a two digit year: 67\n",
      "The date is not magic\n"
     ]
    }
   ],
   "source": [
    "month= int(input(\"Enter a month in numeric form: \"))\n",
    "day= int(input(\"Enter a day: \"))\n",
    "year= int(input(\"Enter a two digit year: \"))\n",
    "\n",
    "if month * day == year:\n",
    "    print(\"The date is magic\")\n",
    "else:\n",
    "    print(\"The date is not magic\")"
   ]
  },
  {
   "cell_type": "markdown",
   "id": "d0986512",
   "metadata": {},
   "source": [
    "7) Grade Calculator"
   ]
  },
  {
   "cell_type": "code",
   "execution_count": 42,
   "id": "653ff38b",
   "metadata": {},
   "outputs": [
    {
     "name": "stdout",
     "output_type": "stream",
     "text": [
      "Enter your first test score: 25\n",
      "Enter your second test score: 12\n",
      "Enter your exam score: 45\n",
      "Your total score is  82\n",
      "Grade: Distinction\n"
     ]
    }
   ],
   "source": [
    "\n",
    "test_score1= int(input(\"Enter your first test score: \"))\n",
    "if test_score1 < 0 or test_score1 > 25 :\n",
    "    print(\"Error: You entered an invalid value.\")\n",
    "test_score2= int(input(\"Enter your second test score: \"))\n",
    "if test_score2 < 0 or test_score2 > 25:\n",
    "    print(\"Error: You entered an invalid value.\")\n",
    "exam= int(input(\"Enter your exam score: \"))\n",
    "\n",
    "if exam < 0 or exam > 50:\n",
    "    print(\"Error: You entered an invalid value.\")\n",
    "\n",
    "total_score= test_score1 + test_score2 + exam\n",
    "print(\"Your total score is \", total_score)\n",
    "\n",
    "if total_score < 50 or exam < 25:\n",
    "    print(\"Grade: Fail\")\n",
    "elif total_score >=80 and total_score <=100:\n",
    "    print(\"Grade: Distinction\")\n",
    "elif total_score >=60 and total_score <= 79:\n",
    "    print(\"Grade: Credit\")\n",
    "elif total_score >=50 and total_score <= 59:\n",
    "    print(\"Grade: Pass\")\n",
    "else:\n",
    "    print(\"Error\")\n"
   ]
  },
  {
   "cell_type": "markdown",
   "id": "8416c652",
   "metadata": {},
   "source": [
    "8) Hot Dog Cookout Calculator"
   ]
  },
  {
   "cell_type": "code",
   "execution_count": 10,
   "id": "8f0557e5",
   "metadata": {},
   "outputs": [
    {
     "name": "stdout",
     "output_type": "stream",
     "text": [
      "Enter the numbe rof people attending the cookout: 4\n",
      "Enter the numbe of hotdogs each person will receive: 5\n",
      "Insufficient Ingredients\n"
     ]
    }
   ],
   "source": [
    "HotDog= 10\n",
    "HotdogBuns= 8\n",
    "people= int(input(\"Enter the numbe rof people attending the cookout: \"))\n",
    "hotdog_no= int(input(\"Enter the numbe of hotdogs each person will receive: \"))\n",
    "total_hotdogs= people * hotdog_no\n",
    "hotdog_remaining= HotDog- total_hotdogs \n",
    "hotbuns_remaining= HotdogBuns - total_hotdogs\n",
    "if total_hotdogs < HotDog:\n",
    "    print(\"The minimum number of hotdogd required is\", total_hotdogs)\n",
    "    print(\"The minimum number of hotdogbuns required is\", total_hotdogs)\n",
    "    print(\"The number of hotdogs leftover is\", hotdog_remaining)\n",
    "    print(\"The number of hotdog buns leftover is\",hot)\n",
    "else:\n",
    "    print(\"Insufficient Ingredients\")\n",
    "\n"
   ]
  },
  {
   "cell_type": "markdown",
   "id": "0c54e732",
   "metadata": {},
   "source": [
    "9) Roulette Wheel Colours"
   ]
  },
  {
   "cell_type": "code",
   "execution_count": 9,
   "id": "e81493ec",
   "metadata": {},
   "outputs": [
    {
     "name": "stdout",
     "output_type": "stream",
     "text": [
      "Enter a pocket number: 34\n",
      "The Pocket Color is Red\n"
     ]
    }
   ],
   "source": [
    "pocket_number= int(input(\"Enter a pocket number: \"))\n",
    "if pocket_number == 0:\n",
    "    print(\"The Pocket Color is Green\")\n",
    "elif (pocket_number >=1 and pocket_number <=10) and (pocket_number/2)*2==pocket_number:\n",
    "        print(\"The Pocket Color is Black\")\n",
    "elif (pocket_number >=1 and pocket_number <=10) and (pocket_number/2)*2!=pocket_number:\n",
    "        print(\"The Pocket Color is Red\")\n",
    "elif (pocket_number >=11 and pocket_number <=18) and (pocket_number/2)*2==pocket_number:\n",
    "        print(\"The Pocket Color is Red\")\n",
    "elif (pocket_number >=11 and pocket_number <=18) and (pocket_number/2)*2!=pocket_number:\n",
    "        print(\"The Pocket Color is Black\")\n",
    "elif (pocket_number >=19 and pocket_number <=28) and (pocket_number/2)*2==pocket_number:\n",
    "        print(\"The Pocket Color is Black\")\n",
    "elif (pocket_number >=19 and pocket_number <=28) and (pocket_number/2)*2!=pocket_number:\n",
    "        print(\"The Pocket Color is Red\")\n",
    "elif (pocket_number >=29 and pocket_number <=36) and (pocket_number/2)*2==pocket_number:\n",
    "        print(\"The Pocket Color is Red\")\n",
    "elif (pocket_number >=29 and pocket_number <=36) and (pocket_number/2)*2!=pocket_number:\n",
    "        print(\"The Pocket Color is Black\")\n",
    "else:\n",
    "    print(\"Invalid pocket number\")"
   ]
  },
  {
   "cell_type": "markdown",
   "id": "46dad13e",
   "metadata": {},
   "source": [
    "10) Money Counting Game"
   ]
  },
  {
   "cell_type": "code",
   "execution_count": 9,
   "id": "2371f8c5",
   "metadata": {},
   "outputs": [
    {
     "name": "stdout",
     "output_type": "stream",
     "text": [
      "Enter the number of pennies: 10\n",
      "Enter the number of nickels: 1\n",
      "Enter the number of dimes: 1\n",
      "Enter the number of quarters: 3\n",
      "Congratulations!!! You won the game\n"
     ]
    }
   ],
   "source": [
    "pennies= int(input(\"Enter the number of pennies: \"))\n",
    "nickels= int(input(\"Enter the number of nickels: \"))\n",
    "dimes= int(input(\"Enter the number of dimes: \"))\n",
    "quarters= int(input(\"Enter the number of quarters: \"))\n",
    "pennies= pennies * 0.01\n",
    "nickels=  nickels * 0.05\n",
    "dimes= dimes * 0.1\n",
    "quarters= quarters * 0.25\n",
    "total= pennies + nickels + dimes + quarters\n",
    "if total == 1:\n",
    "    print(\"Congratulations!!! You won the game\")\n",
    "elif total != 1 and total > 1:\n",
    "        print(\"Amount entered is more than a dollar\")\n",
    "elif total != 1 and total < 1:\n",
    "        print(\"Amount enterd is less than a dollar\")\n",
    "else:\n",
    "    print(\"Error\")\n",
    "        \n",
    "    \n",
    "\n",
    "\n"
   ]
  },
  {
   "cell_type": "markdown",
   "id": "bfbb7507",
   "metadata": {},
   "source": [
    "11) Book Club Points"
   ]
  },
  {
   "cell_type": "code",
   "execution_count": 4,
   "id": "df513ce4",
   "metadata": {},
   "outputs": [
    {
     "name": "stdout",
     "output_type": "stream",
     "text": [
      "Enter the number of books bought: 78\n",
      "You earn 60 points\n"
     ]
    }
   ],
   "source": [
    "books= int(input(\"Enter the number of books bought: \"))\n",
    "if books== 0:\n",
    "    print(\"You earn 0 points\")\n",
    "elif books== 2:\n",
    "    print(\"You earn 5 points\")\n",
    "elif books== 4:\n",
    "    print(\"You earn 15 points\")\n",
    "elif books== 6:\n",
    "    print(\"You earn 30 points\")\n",
    "elif books>= 8:\n",
    "    print(\"You earn 60 points\")\n",
    "else:\n",
    "    print(\"Invalid Input\")"
   ]
  },
  {
   "cell_type": "markdown",
   "id": "6da557e9",
   "metadata": {},
   "source": [
    "12) Software Sales"
   ]
  },
  {
   "cell_type": "code",
   "execution_count": 6,
   "id": "4e110339",
   "metadata": {},
   "outputs": [
    {
     "name": "stdout",
     "output_type": "stream",
     "text": [
      "Enter the number of packages purchased: 34\n",
      "Your discount is  673.2 . Your total amount of purchase is  2692.8 .\n"
     ]
    }
   ],
   "source": [
    "package= int(input(\"Enter the number of packages purchased: \"))\n",
    "package_price= package * 99\n",
    "if package >= 10 and package <= 19:\n",
    "    discount= 0.1 * package_price\n",
    "    new_purchase= package_price - discount\n",
    "    print(\"Your discount is \", discount, \". Your total amount of purchase is \", new_purchase,\".\")\n",
    "\n",
    "elif package >= 20 and package <= 49:\n",
    "    discount= 0.2 * package_price\n",
    "    new_purchase= package_price - discount\n",
    "    print(\"Your discount is \", discount, \". Your total amount of purchase is \", new_purchase,\".\")\n",
    "elif package >= 50 and package <= 99:\n",
    "    discount= 0.3 * package_price\n",
    "    new_purchase= package_price - discount\n",
    "    print(\"Your discount is \", discount, \". Your total amount of purchase is \", new_purchase,\".\")\n",
    "elif package >= 100:\n",
    "    discount= 0.4 * package_price\n",
    "    new_purchase= package_price - discount\n",
    "    print(\"Your discount is \", discount, \". Your total amount of purchase is \", new_purchase,\".\")\n",
    "else:\n",
    "    print(\"Invalid input\")"
   ]
  },
  {
   "cell_type": "markdown",
   "id": "eeaa1d5f",
   "metadata": {},
   "source": [
    "13) Shipping Charges"
   ]
  },
  {
   "cell_type": "code",
   "execution_count": 1,
   "id": "3155bbf9",
   "metadata": {},
   "outputs": [
    {
     "name": "stdout",
     "output_type": "stream",
     "text": [
      "Enter the package weight: 5\n",
      "Your shipping charge is  15\n"
     ]
    }
   ],
   "source": [
    "weight= int(input(\"Enter the package weight: \"))\n",
    "if weight <=2:\n",
    "    shipping_charges= weight * 1.5\n",
    "    print(\"Your shipping charge is \", shipping_charges)\n",
    "elif weight >2 and weight <=6:\n",
    "    shipping_charges= weight * 3\n",
    "    print(\"Your shipping charge is \", shipping_charges)\n",
    "elif weight >6 and weight <= 10:\n",
    "    shipping_charges= weight * 4\n",
    "    print(\"Your shipping charge is \", shipping_charges)\n",
    "elif weight >10:\n",
    "    shipping_charges= weight * 4.75\n",
    "    print(\"Your shipping charge is \", shipping_charges)\n",
    "else:\n",
    "          print(\"Invalid Input\")"
   ]
  },
  {
   "cell_type": "markdown",
   "id": "1d79b8c7",
   "metadata": {},
   "source": [
    "14) Body Mass Index"
   ]
  },
  {
   "cell_type": "code",
   "execution_count": 7,
   "id": "d3fd7bdc",
   "metadata": {},
   "outputs": [
    {
     "name": "stdout",
     "output_type": "stream",
     "text": [
      "Enter your weight: 5\n",
      "Your weight is  5.0 pounds\n",
      "Enter your height: 6\n",
      "Your height is,  6.0 inches\n",
      "Your BMI is:  97.63888888888889 kg/m2\n",
      "You are overweight.\n"
     ]
    }
   ],
   "source": [
    "weight= float(input(\"Enter your weight: \"))\n",
    "print(\"Your weight is \", weight, \"pounds\")\n",
    "height= float(input(\"Enter your height: \"))\n",
    "print(\"Your height is, \", height, \"inches\")\n",
    "BMI= (weight * 703)/(height**2) \n",
    "print(\"Your BMI is: \", BMI, \"kg/m2\")\n",
    "if BMI >=18.5 and BMI <= 25:\n",
    "    print(\"Congratulations!! You are of optimal weight.\")\n",
    "elif BMI < 18.5:\n",
    "    print(\"You are underweight.\")\n",
    "elif BMI > 25:\n",
    "    print(\"You are overweight.\")\n",
    "else:\n",
    "    print(\"Error\")"
   ]
  },
  {
   "cell_type": "markdown",
   "id": "fc5afa2a",
   "metadata": {},
   "source": [
    "15) Time Calculator"
   ]
  },
  {
   "cell_type": "code",
   "execution_count": 13,
   "id": "246e7262",
   "metadata": {},
   "outputs": [
    {
     "name": "stdout",
     "output_type": "stream",
     "text": [
      "Enter any number of seconds: 456788\n",
      "Converted to seconds: 456788\n",
      "Converted to minutes: 7613.133333333333\n",
      "Converted to hours: 126.88555555555556\n",
      "Converted to days: 5.286898148148148\n"
     ]
    }
   ],
   "source": [
    "seconds= int(input(\"Enter any number of seconds: \"))\n",
    "minutes= seconds / 60\n",
    "hours= seconds/3600\n",
    "days= seconds/86400\n",
    "if seconds >= 60 and seconds <3600:\n",
    "    print(\"Converted to seconds: \", seconds)\n",
    "    print(\"Converted to minutes: \", minutes)\n",
    "elif seconds >=3600 and seconds <86400:\n",
    "    print(\"Converted to seconds:\", seconds)\n",
    "    print(\"Converted to minutes:\", minutes)\n",
    "    print(\"Converted to hours:\",hours)\n",
    "elif seconds >=86400:\n",
    "    print(\"Converted to seconds:\", seconds)\n",
    "    print(\"Converted to minutes:\", minutes)\n",
    "    print(\"Converted to hours:\",hours)\n",
    "    print(\"Converted to days:\" ,days)\n",
    "else:\n",
    "    print(\"Error\")\n",
    "    "
   ]
  },
  {
   "cell_type": "markdown",
   "id": "22498272",
   "metadata": {},
   "source": [
    "16) February Days"
   ]
  },
  {
   "cell_type": "code",
   "execution_count": 16,
   "id": "526b8b76",
   "metadata": {},
   "outputs": [
    {
     "name": "stdout",
     "output_type": "stream",
     "text": [
      "Enter a year: 2008\n",
      "In 2008 February has 29 years and is therefore a Leap Year.\n"
     ]
    }
   ],
   "source": [
    "year= int(input(\"Enter a year: \"))\n",
    "if year%100==0 and year%400==0:\n",
    "    print(\"In\", year, \"February has 29 years and is therefore a Leap Year.\")\n",
    "elif year%100!=0 and year%4==0:\n",
    "    print(\"In\", year, \"February has 29 years and is therefore a Leap Year.\")\n",
    "else:\n",
    "    print(\"In\", year, \"February has 28 days and is therefore NOT a Leap Year.\")\n"
   ]
  },
  {
   "cell_type": "markdown",
   "id": "0cb4595d",
   "metadata": {},
   "source": [
    "17) Wi-fi Diagnostic Tree"
   ]
  },
  {
   "cell_type": "code",
   "execution_count": 1,
   "id": "99b7d2f0",
   "metadata": {},
   "outputs": [
    {
     "name": "stdout",
     "output_type": "stream",
     "text": [
      "Here are some tests to run your wi-fi diagnostic\n",
      "Reboot the computer and try to connect\n",
      "Did that fix the problem? no\n",
      "Reboot te router and try to connect\n",
      "Did that solve the problem? no\n",
      "Make sure the cables between the router and the modem are plugged in firmly\n",
      "Did that solve the problem? no\n",
      "Move the router t a new location\n",
      "Did that solve the problem? yes\n",
      "Thank you for your response\n"
     ]
    }
   ],
   "source": [
    "response2= \"Reboot te router and try to connect\"\n",
    "response3= \"Make sure the cables between the router and the modem are plugged in firmly\"\n",
    "response4= \"Move the router to a new location\"\n",
    "response5= \"Get a new router\"\n",
    "print(\"Here are some tests to run your wi-fi diagnostic\")\n",
    "print(\"Reboot the computer and try to connect\")\n",
    "answer2= input(\"Did that fix the problem? \")\n",
    "if answer2== \"no\":\n",
    "    print(response2)\n",
    "elif answer2 == \"yes\":\n",
    "    print:(\"Thank you for your response\")\n",
    "answer3= input(\"Did that solve the problem? \")\n",
    "if answer3== \"no\":\n",
    "    print(response3)\n",
    "elif answer2== \"yes\":\n",
    "    print(\"Thank you for your response\")\n",
    "answer4= input(\"Did that solve the problem? \")\n",
    "if answer4== \"no\":\n",
    "    print(response4)\n",
    "elif answer2 == \"yes\":\n",
    "    print(\"Thank you for your response\")\n",
    "answer5= input(\"Did that solve the problem? \")\n",
    "if answer5== \"no\":\n",
    "    print(response5)\n",
    "else:\n",
    "    print(\"Thank you for your response\")\n"
   ]
  },
  {
   "cell_type": "markdown",
   "id": "4d778551",
   "metadata": {},
   "source": [
    "18)Restuarant Selector"
   ]
  },
  {
   "cell_type": "code",
   "execution_count": 8,
   "id": "90f6ad3d",
   "metadata": {},
   "outputs": [
    {
     "name": "stdout",
     "output_type": "stream",
     "text": [
      "Is anyone in your party vegetarian? Yes\n",
      "Is anyone in your party vegan? Yes\n",
      "Is anyone in your party glutenfree? Yes\n",
      "Here are your Restuarant Choices: \n",
      "Corner Cafe\n",
      "The Chef's Kitchen\n"
     ]
    }
   ],
   "source": [
    "vegetarian= input(\"Is anyone in your party vegetarian? \")\n",
    "vegan= input(\"Is anyone in your party vegan? \")\n",
    "glutenfree= input(\"Is anyone in your party glutenfree? \")\n",
    "if vegetarian== \"No\" and vegan== \"No\" and glutenfree == \"No\":\n",
    "    print(\"Here are your Restuarant Choices: \")\n",
    "    print(\"Joe's Gourmet Burgers\")\n",
    "elif vegetarian== \"Yes\" and vegan== \"No\" and glutenfree == \"Yes\":\n",
    "    print(\"Here are your Restuarant Choices: \")\n",
    "    print(\"Main Street Pizza Company\")\n",
    "    print(\"The Chef's Kitchen\")\n",
    "    print(\"Corner Cafe\")\n",
    "elif vegetarian== \"Yes\" and vegan== \"Yes\" and glutenfree == \"Yes\":\n",
    "    print(\"Here are your Restuarant Choices: \")\n",
    "    print(\"Corner Cafe\")\n",
    "    print(\"The Chef's Kitchen\")\n",
    "elif vegetarian== \"Yes\" and vegan== \"No\" and glutenfree == \"No\":\n",
    "    print(\"Here are your Restuarant Choices: \")\n",
    "    print(\"Mama's fine Italian\")\n",
    "elif vegetarian== \"Yes\" and vegan== \"Yes\" and glutenfree == \"Yes\":\n",
    "    print(\"Here are your Restuarant Choices: \")\n",
    "    print(\"The Chef's Kitchen\")\n",
    "else:\n",
    "    print(\"No available Restuarant\")"
   ]
  },
  {
   "cell_type": "code",
   "execution_count": null,
   "id": "8ad53775",
   "metadata": {},
   "outputs": [],
   "source": []
  }
 ],
 "metadata": {
  "kernelspec": {
   "display_name": "Python 3",
   "language": "python",
   "name": "python3"
  },
  "language_info": {
   "codemirror_mode": {
    "name": "ipython",
    "version": 3
   },
   "file_extension": ".py",
   "mimetype": "text/x-python",
   "name": "python",
   "nbconvert_exporter": "python",
   "pygments_lexer": "ipython3",
   "version": "3.8.8"
  }
 },
 "nbformat": 4,
 "nbformat_minor": 5
}
